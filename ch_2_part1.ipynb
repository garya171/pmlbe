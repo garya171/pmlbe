{
  "nbformat": 4,
  "nbformat_minor": 0,
  "metadata": {
    "colab": {
      "provenance": [],
      "authorship_tag": "ABX9TyMZ6IllH1xX7LrhnDJGueIM",
      "include_colab_link": true
    },
    "kernelspec": {
      "name": "python3",
      "display_name": "Python 3"
    },
    "language_info": {
      "name": "python"
    }
  },
  "cells": [
    {
      "cell_type": "markdown",
      "metadata": {
        "id": "view-in-github",
        "colab_type": "text"
      },
      "source": [
        "<a href=\"https://colab.research.google.com/github/garya171/pmlbe/blob/main/ch_2_part1.ipynb\" target=\"_parent\"><img src=\"https://colab.research.google.com/assets/colab-badge.svg\" alt=\"Open In Colab\"/></a>"
      ]
    },
    {
      "cell_type": "markdown",
      "source": [
        "# Import Standard Python Modules  "
      ],
      "metadata": {
        "id": "GTSGnfq_MnXs"
      }
    },
    {
      "cell_type": "code",
      "source": [
        "import torch\n",
        "import numpy as np\n",
        "import matplotlib.pyplot as plt\n",
        "import torch\n",
        "import numpy as np\n",
        "import matplotlib.pyplot as plt\n",
        "import pandas as pd\n",
        "import seaborn as sns\n",
        "import sklearn\n",
        "%matplotlib inline"
      ],
      "metadata": {
        "id": "SQ5GiIxSNPFM"
      },
      "execution_count": 2,
      "outputs": []
    },
    {
      "cell_type": "markdown",
      "source": [
        "# Import Extra Python Modules  "
      ],
      "metadata": {
        "id": "cvwakyBWM_cB"
      }
    },
    {
      "cell_type": "code",
      "execution_count": 3,
      "metadata": {
        "id": "MqQM9NieMlYJ"
      },
      "outputs": [],
      "source": [
        "from collections import defaultdict"
      ]
    },
    {
      "cell_type": "markdown",
      "source": [
        "# Data Loading"
      ],
      "metadata": {
        "id": "1AEd7-wgOKJf"
      }
    },
    {
      "cell_type": "code",
      "source": [
        "X_train = np.array([\n",
        "    [0, 1, 1],\n",
        "    [0, 0, 1],\n",
        "    [0, 0, 0],\n",
        "    [1, 1, 0]])\n",
        "Y_train = ['Y', 'N', 'Y', 'Y']\n",
        "X_test = np.array([[1, 0, 0]])"
      ],
      "metadata": {
        "id": "PmgQZH2FVyq_"
      },
      "execution_count": 4,
      "outputs": []
    },
    {
      "cell_type": "code",
      "source": [],
      "metadata": {
        "id": "MOGSyaNnXKXv"
      },
      "execution_count": null,
      "outputs": []
    },
    {
      "cell_type": "markdown",
      "source": [
        "# Data Preprossing and Feature Engineering"
      ],
      "metadata": {
        "id": "zQ-fRYAaOOJD"
      }
    },
    {
      "cell_type": "markdown",
      "source": [
        "## Scan the Data"
      ],
      "metadata": {
        "id": "5kF_RPPIOUXD"
      }
    },
    {
      "cell_type": "markdown",
      "source": [],
      "metadata": {
        "id": "TFz9md1UOdf0"
      }
    },
    {
      "cell_type": "markdown",
      "source": [
        "## Visualize the Data"
      ],
      "metadata": {
        "id": "0hDohxuXOzw-"
      }
    },
    {
      "cell_type": "markdown",
      "source": [
        "## Dealing with Missing Data"
      ],
      "metadata": {
        "id": "8KNO6dgnO4HF"
      }
    },
    {
      "cell_type": "markdown",
      "source": [
        "### Imputing Data such as Mean, Medium, Mode"
      ],
      "metadata": {
        "id": "6elsDmNfO9pT"
      }
    },
    {
      "cell_type": "markdown",
      "source": [
        "## Label Encoding"
      ],
      "metadata": {
        "id": "j3DcOnFjOfdX"
      }
    },
    {
      "cell_type": "code",
      "source": [
        "def get_label_indices(labels):\n",
        "    \"\"\"\n",
        "    Group samples based on their labels and return indices\n",
        "    @param labels: list of labels\n",
        "    @return: dict, {class1: [indices], class2: [indices]}\n",
        "    \"\"\"\n",
        "    label_indices = defaultdict(list)\n",
        "    for index, label in enumerate(labels):\n",
        "        label_indices[label].append(index)\n",
        "    return label_indices"
      ],
      "metadata": {
        "id": "ZKN9L4jkWue2"
      },
      "execution_count": 11,
      "outputs": []
    },
    {
      "cell_type": "code",
      "source": [
        "label_indices = get_label_indices(Y_train)\n",
        "print('label_indices:\\n', label_indices)"
      ],
      "metadata": {
        "id": "5S8iMWkZXQ1E",
        "outputId": "8d42905a-5316-4545-ba2f-13056bed8a7e",
        "colab": {
          "base_uri": "https://localhost:8080/"
        }
      },
      "execution_count": 12,
      "outputs": [
        {
          "output_type": "stream",
          "name": "stdout",
          "text": [
            "defaultdict(<class 'list'>, {'Y': [0]})\n",
            "defaultdict(<class 'list'>, {'Y': [0], 'N': [1]})\n",
            "defaultdict(<class 'list'>, {'Y': [0, 2], 'N': [1]})\n",
            "defaultdict(<class 'list'>, {'Y': [0, 2, 3], 'N': [1]})\n",
            "label_indices:\n",
            " defaultdict(<class 'list'>, {'Y': [0, 2, 3], 'N': [1]})\n"
          ]
        }
      ]
    },
    {
      "cell_type": "markdown",
      "source": [
        "### One-hot Encoding, Sparce Matrix"
      ],
      "metadata": {
        "id": "vh5Wp-rOPSin"
      }
    },
    {
      "cell_type": "markdown",
      "source": [
        "### Dense Embedding"
      ],
      "metadata": {
        "id": "xzg46THjPaid"
      }
    },
    {
      "cell_type": "markdown",
      "source": [
        "## Scaling"
      ],
      "metadata": {
        "id": "yqp4gbbOPf0p"
      }
    },
    {
      "cell_type": "markdown",
      "source": [
        "### Gaussian: mean = 0, variance = 1"
      ],
      "metadata": {
        "id": "E1ZdERDJPjDV"
      }
    },
    {
      "cell_type": "markdown",
      "source": [
        "### Interquartile Range"
      ],
      "metadata": {
        "id": "yt28sqD9PsIc"
      }
    },
    {
      "cell_type": "markdown",
      "source": [
        "## Feature Engineering"
      ],
      "metadata": {
        "id": "ry8Ttm1vPw8O"
      }
    },
    {
      "cell_type": "markdown",
      "source": [
        "### Polynomial Transformation"
      ],
      "metadata": {
        "id": "qSeJEDoJP3Y3"
      }
    },
    {
      "cell_type": "markdown",
      "source": [
        "### Binning"
      ],
      "metadata": {
        "id": "fHBN4Zi5P74t"
      }
    },
    {
      "cell_type": "markdown",
      "source": [
        "## Combing Models"
      ],
      "metadata": {
        "id": "KrPJUJB5P_Dr"
      }
    },
    {
      "cell_type": "markdown",
      "source": [
        "### Voting and Averaging"
      ],
      "metadata": {
        "id": "b-OoMjrQQEeg"
      }
    },
    {
      "cell_type": "markdown",
      "source": [
        "### Bagging / Bootstrap Aggregating"
      ],
      "metadata": {
        "id": "oIGXkUJIQIoU"
      }
    },
    {
      "cell_type": "markdown",
      "source": [
        "### Boosting"
      ],
      "metadata": {
        "id": "EILvpkd2QO33"
      }
    },
    {
      "cell_type": "markdown",
      "source": [
        "### Stacking"
      ],
      "metadata": {
        "id": "Pun6s3ntQRvR"
      }
    }
  ]
}